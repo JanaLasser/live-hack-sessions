{
 "cells": [
  {
   "cell_type": "markdown",
   "metadata": {},
   "source": [
    "_Lizenz: Das folgende Lehrmaterial kann unter einer [CC-BY-SA 4.0](https://creativecommons.org/licenses/by/4.0/legalcode) Lizenz frei verwendet, verbreitet und modifiziert werden._   \n",
    " _Authoren: Jana Lasser (jana.lasser@ds.mpg.de)_  "
   ]
  },
  {
   "cell_type": "markdown",
   "metadata": {},
   "source": [
    "# The best words: Datenanalyse auf Twitter\n",
    "### Live hack session 27. Juni 2019, Universität Göttingen"
   ]
  },
  {
   "cell_type": "markdown",
   "metadata": {},
   "source": [
    "<a name=\"top\"></a>Inhalt\n",
    "---"
   ]
  },
  {
   "cell_type": "code",
   "execution_count": 1,
   "metadata": {},
   "outputs": [
    {
     "data": {
      "text/html": [
       "'<iframe width=\"622\" height=\"360\" src=\"https://www.youtube.com/embed/0T-Eo0j092Q\" frameborder=\"0\" allow=\"accelerometer; autoplay; encrypted-media; gyroscope; picture-in-picture\" allowfullscreen></iframe>'"
      ],
      "text/plain": [
       "<IPython.core.display.HTML object>"
      ]
     },
     "metadata": {},
     "output_type": "display_data"
    }
   ],
   "source": [
    "%%HTML\n",
    "'<iframe width=\"622\" height=\"360\" src=\"https://www.youtube.com/embed/0T-Eo0j092Q\" frameborder=\"0\" allow=\"accelerometer; autoplay; encrypted-media; gyroscope; picture-in-picture\" allowfullscreen></iframe>'"
   ]
  },
  {
   "cell_type": "markdown",
   "metadata": {},
   "source": [
    "Wir wollen mit Daten (von Twitter) **quantifizieren**, ob Donald Trump wirklich die besten Worte (benutzt) hat. Dabei sollt ihr einen **Einblick in moderne Tools zur Datenanalyse** erhalten und herausfinden, ob euch diese Art des Arbeitens **Spaß** macht. Im Folgenden werden wir uns mit den folgenden Themenblöcken beschäftigen:\n",
    "\n",
    "* [Das Jupyter-Notebook](#jupyterbasics)\n",
    "* [Python basics](#pythonbasics)\n",
    "* [Daten beschaffen](#daten_beschaffen)\n",
    "* [Daten erkunden](#daten_erkunden)\n",
    "* [Daten Visualisieren](#daten_visualisieren)\n",
    "* [Hat Trump wirklich die besten Worte?](#all_the_best_words)\n",
    "---"
   ]
  },
  {
   "cell_type": "markdown",
   "metadata": {},
   "source": [
    "### Organisatorisches & Regeln:\n",
    "**Dauer:** etwa 3 Stunden, **Pause** nach etwa 1.5 Stunden, **Getränke** jederzeit frei verfügbar.  \n",
    "\n",
    "* Fragen jederzeit erlaubt $\\rightarrow$ Handzeichen oder dazwischenrufen\n",
    "* <font color='red'>**rotes**</font> Post-it auf den Bildschirm, wenn ihr Hilfe braucht oder es zu schnell geht\n",
    "* Helferelein im Raum helfen euch gerne\n",
    "* Wir machen das hier, damit **ihr** etwas lernt, nicht damit wir uns cool fühlen können - also nicht zögern zu fragen, zu bremsen oder zu diskutieren!\n",
    "---"
   ]
  },
  {
   "cell_type": "markdown",
   "metadata": {},
   "source": [
    "<a name=\"jupyterbasics\"></a>Das Jupyter-Notebook\n",
    "---\n",
    "* Login [JupyterCloud](jupyter-cloud.gwdg.de)\n",
    "* Neues Notebook mit Python-Kernell erstellen\n",
    "* modularer Editor: Text $\\leftrightarrow$ Code\n",
    "* Wichtige Kommandos $\\rightarrow$ Cheatsheet\n",
    "---\n",
    "\n",
    "<img src=\"jupyter_cheatsheet.png\" width=\"500\"/>\n",
    "\n",
    "----\n",
    "\n",
    "Aktionen:\n",
    "* Neue Zelle machen (```B```)\n",
    "* etwas in die Zelle schreiben (z. B. ```2 + 2```)\n",
    "* Zelle ausführen (```SHIFT``` + ```ENTER```)\n",
    "* Zelle wieder löschen (```D``` ```D```)"
   ]
  },
  {
   "cell_type": "markdown",
   "metadata": {},
   "source": [
    "[Anfang](#top)"
   ]
  },
  {
   "cell_type": "markdown",
   "metadata": {},
   "source": [
    "<a name=\"pythonbasics\"></a>Python basics\n",
    "---\n",
    "#### Python als Taschenrechner  \n",
    "$\\rightarrow$ Programmiersprache (Scriptsprache), wird interpretiert nicht kompiliert.  \n",
    "$\\rightarrow$ Python als Taschenrechner, Variablen"
   ]
  },
  {
   "cell_type": "code",
   "execution_count": 194,
   "metadata": {},
   "outputs": [
    {
     "data": {
      "text/plain": [
       "5"
      ]
     },
     "execution_count": 194,
     "metadata": {},
     "output_type": "execute_result"
    }
   ],
   "source": [
    "# Zahlen\n",
    "2 + 3"
   ]
  },
  {
   "cell_type": "code",
   "execution_count": 2,
   "metadata": {},
   "outputs": [
    {
     "data": {
      "text/plain": [
       "133"
      ]
     },
     "execution_count": 2,
     "metadata": {},
     "output_type": "execute_result"
    }
   ],
   "source": [
    "# Zahlen\n",
    "7 * 19"
   ]
  },
  {
   "cell_type": "code",
   "execution_count": 3,
   "metadata": {},
   "outputs": [
    {
     "data": {
      "text/plain": [
       "256"
      ]
     },
     "execution_count": 3,
     "metadata": {},
     "output_type": "execute_result"
    }
   ],
   "source": [
    "# Zahlen\n",
    "2 ** 8"
   ]
  },
  {
   "cell_type": "code",
   "execution_count": 7,
   "metadata": {},
   "outputs": [
    {
     "data": {
      "text/plain": [
       "'ab'"
      ]
     },
     "execution_count": 7,
     "metadata": {},
     "output_type": "execute_result"
    }
   ],
   "source": [
    "# Buchstaben (Strings)\n",
    "'a' + 'b'"
   ]
  },
  {
   "cell_type": "code",
   "execution_count": 8,
   "metadata": {},
   "outputs": [
    {
     "data": {
      "text/plain": [
       "'aaaaaaaaaa'"
      ]
     },
     "execution_count": 8,
     "metadata": {},
     "output_type": "execute_result"
    }
   ],
   "source": [
    "# Strings und Zahlen\n",
    "'a' * 10"
   ]
  },
  {
   "cell_type": "markdown",
   "metadata": {},
   "source": [
    "#### Variablen"
   ]
  },
  {
   "cell_type": "code",
   "execution_count": 17,
   "metadata": {},
   "outputs": [],
   "source": [
    "# Variable | Zuweisung | Wert\n",
    "meine_variable = 19"
   ]
  },
  {
   "cell_type": "code",
   "execution_count": 18,
   "metadata": {},
   "outputs": [
    {
     "data": {
      "text/plain": [
       "19"
      ]
     },
     "execution_count": 18,
     "metadata": {},
     "output_type": "execute_result"
    }
   ],
   "source": [
    "meine_variable"
   ]
  },
  {
   "cell_type": "code",
   "execution_count": 19,
   "metadata": {},
   "outputs": [
    {
     "name": "stdout",
     "output_type": "stream",
     "text": [
      "19\n",
      "a\n"
     ]
    }
   ],
   "source": [
    "# alternativ:\n",
    "print(meine_variable)\n",
    "print('a')"
   ]
  },
  {
   "cell_type": "code",
   "execution_count": 10,
   "metadata": {},
   "outputs": [
    {
     "data": {
      "text/plain": [
       "25"
      ]
     },
     "execution_count": 10,
     "metadata": {},
     "output_type": "execute_result"
    }
   ],
   "source": [
    "# rechnen\n",
    "a = 10 # was ist der Unterschied zwischen a und 'a'?\n",
    "b = 15\n",
    "\n",
    "a + b"
   ]
  },
  {
   "cell_type": "code",
   "execution_count": 12,
   "metadata": {},
   "outputs": [
    {
     "data": {
      "text/plain": [
       "150"
      ]
     },
     "execution_count": 12,
     "metadata": {},
     "output_type": "execute_result"
    }
   ],
   "source": [
    "# Ergebnis in Variable speichern\n",
    "c = a * b\n",
    "c"
   ]
  },
  {
   "cell_type": "code",
   "execution_count": 15,
   "metadata": {},
   "outputs": [
    {
     "data": {
      "text/plain": [
       "'cccccccccc'"
      ]
     },
     "execution_count": 15,
     "metadata": {},
     "output_type": "execute_result"
    }
   ],
   "source": [
    "# Zahlen und Strings\n",
    "d = 'c'\n",
    "e = d * a # was steht jetzt in e?\n",
    "e"
   ]
  },
  {
   "cell_type": "markdown",
   "metadata": {},
   "source": [
    "#### Funktionen\n",
    "Eine Funktion sammelt eine Reihe von Anweisungen und führt sie dann gesammelt aus, wenn wir sie \"rufen\". ```print()``` ist so eine Funktion. Wir können auch eine eigene bauen:"
   ]
  },
  {
   "cell_type": "code",
   "execution_count": 195,
   "metadata": {},
   "outputs": [],
   "source": [
    "# Funktion definieren\n",
    "# WICHTIG: Funktionsname, Klammern, Argumente, Einrückung\n",
    "def rechnen_mit_zahlen(zahl1, zahl2):\n",
    "    print('Summe')\n",
    "    print(zahl1 + zahl2)\n",
    "    print('Differenz')\n",
    "    print(zahl1 - zahl2)\n",
    "    print('Produkt')\n",
    "    print(zahl1 * zahl2)\n",
    "            \n",
    "# was macht die Funktion? Erstmal nix..."
   ]
  },
  {
   "cell_type": "code",
   "execution_count": 196,
   "metadata": {},
   "outputs": [
    {
     "name": "stdout",
     "output_type": "stream",
     "text": [
      "Summe\n",
      "15\n",
      "Differenz\n",
      "5\n",
      "Produkt\n",
      "50\n"
     ]
    }
   ],
   "source": [
    "# Funktion benutzen\n",
    "# WICHTIG: tab-completion, Argument\n",
    "zahl1 = 10\n",
    "zahl2 = 5\n",
    "rechnen_mit_zahlen(zahl1, zahl2)"
   ]
  },
  {
   "cell_type": "markdown",
   "metadata": {},
   "source": [
    "#### Bibliotheken"
   ]
  },
  {
   "cell_type": "markdown",
   "metadata": {},
   "source": [
    "_Cool, aber muss ich jetzt wirklich alles von Hand tippen?_  \n",
    "$\\rightarrow$ ne, das haben schlaue Leute schon vor uns gemacht!  \n",
    "$\\rightarrow$ Bibliotheken"
   ]
  },
  {
   "cell_type": "code",
   "execution_count": 197,
   "metadata": {},
   "outputs": [
    {
     "data": {
      "text/plain": [
       "4.358898943540674"
      ]
     },
     "execution_count": 197,
     "metadata": {},
     "output_type": "execute_result"
    }
   ],
   "source": [
    "# einfache Bibliothek (Standardblibliothek)\n",
    "import math\n",
    "\n",
    "# WICHTIG: Punkt-Operator\n",
    "math.sqrt(19)"
   ]
  },
  {
   "cell_type": "code",
   "execution_count": 198,
   "metadata": {},
   "outputs": [
    {
     "data": {
      "text/plain": [
       "[<matplotlib.lines.Line2D at 0x7f95712b3550>]"
      ]
     },
     "execution_count": 198,
     "metadata": {},
     "output_type": "execute_result"
    },
    {
     "data": {
      "image/png": "[encoded data removed]",
      "text/plain": [
       "<Figure size 432x288 with 1 Axes>"
      ]
     },
     "metadata": {},
     "output_type": "display_data"
    }
   ],
   "source": [
    "# komplexe Bibliothek (third-party Bibliothek)\n",
    "# WICHTIG: Kürzel, zwei Argumente (Listen), optionales Argument, keyword Argument\n",
    "import matplotlib.pyplot as plt\n",
    "\n",
    "x = [1, 2, 3, 4, 5]\n",
    "y = [2, 3, 1, 10, 7]\n",
    "\n",
    "plt.plot(x, y, '-o', color = 'red')"
   ]
  },
  {
   "cell_type": "markdown",
   "metadata": {},
   "source": [
    "#### Fehlermeldungen"
   ]
  },
  {
   "cell_type": "markdown",
   "metadata": {},
   "source": [
    "_Was passiert, wenn etwas nicht funktioniert?_  \n",
    "$\\rightarrow$ Fehlermeldung **lesen**, **verstehen** (und **googeln**).  \n",
    "$\\rightarrow$ So sieht eine Fehlermeldung aus:"
   ]
  },
  {
   "cell_type": "code",
   "execution_count": 50,
   "metadata": {},
   "outputs": [
    {
     "ename": "TypeError",
     "evalue": "unsupported operand type(s) for +: 'int' and 'str'",
     "output_type": "error",
     "traceback": [
      "\u001b[0;31m---------------------------------------------------------------------------\u001b[0m",
      "\u001b[0;31mTypeError\u001b[0m                                 Traceback (most recent call last)",
      "\u001b[0;32m<ipython-input-50-cef6b74d0167>\u001b[0m in \u001b[0;36m<module>\u001b[0;34m()\u001b[0m\n\u001b[1;32m      3\u001b[0m \u001b[0mb\u001b[0m \u001b[0;34m=\u001b[0m \u001b[0;34m'10'\u001b[0m\u001b[0;34m\u001b[0m\u001b[0m\n\u001b[1;32m      4\u001b[0m \u001b[0;34m\u001b[0m\u001b[0m\n\u001b[0;32m----> 5\u001b[0;31m \u001b[0ma\u001b[0m \u001b[0;34m+\u001b[0m \u001b[0mb\u001b[0m\u001b[0;34m\u001b[0m\u001b[0m\n\u001b[0m",
      "\u001b[0;31mTypeError\u001b[0m: unsupported operand type(s) for +: 'int' and 'str'"
     ]
    }
   ],
   "source": [
    "# TypeError\n",
    "# WICHTIG: Was? Wo? lesen -> (googeln) -> verstehen -> reparieren\n",
    "a = 10\n",
    "b = '10'\n",
    "\n",
    "a + b"
   ]
  },
  {
   "cell_type": "markdown",
   "metadata": {},
   "source": [
    "[Anfang](#top)\n",
    "\n",
    "---"
   ]
  },
  {
   "cell_type": "markdown",
   "metadata": {},
   "source": [
    "<a name=\"daten_beschaffen\"></a>Daten beschaffen\n",
    "---"
   ]
  },
  {
   "cell_type": "code",
   "execution_count": 29,
   "metadata": {},
   "outputs": [],
   "source": [
    "# wo liegen die Daten?\n",
    "pfad = \"daten_live_hack_session/\"\n",
    "\n",
    "# wie heißen die Dateien?\n",
    "filename_trump = 'tweets_trump.xlsx'\n",
    "filename_troll = 'tweets_troll_subset.xlsx'\n",
    "filename_normal = 'tweets_normal_subset.xlsx'\n",
    "\n",
    "# wie bekommen wir die Daten ins Notebook?\n",
    "import pandas as pd\n",
    "tweets_trump = pd.read_excel(pfad + filename_trump)\n",
    "tweets_troll = pd.read_excel(pfad + filename_troll)\n",
    "tweets_normal = pd.read_excel(pfad + filename_normal)"
   ]
  },
  {
   "cell_type": "code",
   "execution_count": 18,
   "metadata": {},
   "outputs": [
    {
     "data": {
      "text/html": [
       "<div>\n",
       "<style scoped>\n",
       "    .dataframe tbody tr th:only-of-type {\n",
       "        vertical-align: middle;\n",
       "    }\n",
       "\n",
       "    .dataframe tbody tr th {\n",
       "        vertical-align: top;\n",
       "    }\n",
       "\n",
       "    .dataframe thead th {\n",
       "        text-align: right;\n",
       "    }\n",
       "</style>\n",
       "<table border=\"1\" class=\"dataframe\">\n",
       "  <thead>\n",
       "    <tr style=\"text-align: right;\">\n",
       "      <th></th>\n",
       "      <th>User</th>\n",
       "      <th>Tweet</th>\n",
       "      <th>tweet_length</th>\n",
       "      <th>word_number</th>\n",
       "      <th>Date</th>\n",
       "    </tr>\n",
       "  </thead>\n",
       "  <tbody>\n",
       "    <tr>\n",
       "      <th>0</th>\n",
       "      <td>robrobbierobert</td>\n",
       "      <td>@octolinz16 It it counts, idk why I did either...</td>\n",
       "      <td>77</td>\n",
       "      <td>16</td>\n",
       "      <td>2009-04-06 22:20:00</td>\n",
       "    </tr>\n",
       "    <tr>\n",
       "      <th>1</th>\n",
       "      <td>abel209</td>\n",
       "      <td>ooooh.... LOL  that leslie.... and ok I won't ...</td>\n",
       "      <td>89</td>\n",
       "      <td>20</td>\n",
       "      <td>2009-04-06 22:20:00</td>\n",
       "    </tr>\n",
       "    <tr>\n",
       "      <th>2</th>\n",
       "      <td>a_mariepyt</td>\n",
       "      <td>Damm back to school tomorrow</td>\n",
       "      <td>29</td>\n",
       "      <td>6</td>\n",
       "      <td>2009-04-06 22:23:00</td>\n",
       "    </tr>\n",
       "    <tr>\n",
       "      <th>3</th>\n",
       "      <td>djwayneski</td>\n",
       "      <td>@msdrama hey missed ya at the meeting  sup mama</td>\n",
       "      <td>47</td>\n",
       "      <td>10</td>\n",
       "      <td>2009-04-06 22:26:00</td>\n",
       "    </tr>\n",
       "    <tr>\n",
       "      <th>4</th>\n",
       "      <td>gregcronin</td>\n",
       "      <td>missed Brent at praise band.  No fun to not ha...</td>\n",
       "      <td>82</td>\n",
       "      <td>15</td>\n",
       "      <td>2009-04-06 22:36:00</td>\n",
       "    </tr>\n",
       "  </tbody>\n",
       "</table>\n",
       "</div>"
      ],
      "text/plain": [
       "              User                                              Tweet  \\\n",
       "0  robrobbierobert  @octolinz16 It it counts, idk why I did either...   \n",
       "1          abel209  ooooh.... LOL  that leslie.... and ok I won't ...   \n",
       "2       a_mariepyt                      Damm back to school tomorrow    \n",
       "3       djwayneski    @msdrama hey missed ya at the meeting  sup mama   \n",
       "4       gregcronin  missed Brent at praise band.  No fun to not ha...   \n",
       "\n",
       "   tweet_length  word_number                Date  \n",
       "0            77           16 2009-04-06 22:20:00  \n",
       "1            89           20 2009-04-06 22:20:00  \n",
       "2            29            6 2009-04-06 22:23:00  \n",
       "3            47           10 2009-04-06 22:26:00  \n",
       "4            82           15 2009-04-06 22:36:00  "
      ]
     },
     "execution_count": 18,
     "metadata": {},
     "output_type": "execute_result"
    }
   ],
   "source": [
    "tweets_normal.head()"
   ]
  },
  {
   "cell_type": "markdown",
   "metadata": {},
   "source": [
    "#### Exkurs: Liste"
   ]
  },
  {
   "cell_type": "code",
   "execution_count": 51,
   "metadata": {},
   "outputs": [
    {
     "data": {
      "text/plain": [
       "'a'"
      ]
     },
     "execution_count": 51,
     "metadata": {},
     "output_type": "execute_result"
    }
   ],
   "source": [
    "# Liste \n",
    "# WICHTIG: eckige Klammern, Kommata, Index 0\n",
    "liste = ['a', 'b', 'c']\n",
    "liste[0]"
   ]
  },
  {
   "cell_type": "code",
   "execution_count": 154,
   "metadata": {},
   "outputs": [
    {
     "data": {
      "text/plain": [
       "0        robrobbierobert\n",
       "1                abel209\n",
       "2             a_mariepyt\n",
       "3             djwayneski\n",
       "4             gregcronin\n",
       "5            marybacchus\n",
       "6               jkenneth\n",
       "7                 dreaaa\n",
       "8                roniker\n",
       "9                 spcake\n",
       "10         michellepolus\n",
       "11             saltypond\n",
       "12       ACTinglikeamama\n",
       "13           gravitybomb\n",
       "14          alice_wonder\n",
       "15        Materialgirl21\n",
       "16            marlakalaw\n",
       "17               verruca\n",
       "18               SHRIKEE\n",
       "19              greatAni\n",
       "20         nataliebaladi\n",
       "21              Ben_Hall\n",
       "22              teeeeena\n",
       "23                Brozzy\n",
       "24              donalyza\n",
       "25           SimonFilmer\n",
       "26       Damn_Knit_Blast\n",
       "27             Lozzy0910\n",
       "28             BabyVeezy\n",
       "29           sanatawileh\n",
       "              ...       \n",
       "30281              ADSAJ\n",
       "30282       jyssica_bOOG\n",
       "30283        roncharette\n",
       "30284       JamesConnors\n",
       "30285            baphled\n",
       "30286          ypatten35\n",
       "30287       DirtyBitch16\n",
       "30288         gamedevftw\n",
       "30289         IsaacLau86\n",
       "30290         GodFirst08\n",
       "30291       kozmicblues3\n",
       "30292             emoeby\n",
       "30293       Lukes_Tweets\n",
       "30294      diggingTTdirt\n",
       "30295    michellepriddle\n",
       "30296            keevs33\n",
       "30297       Septimus1812\n",
       "30298           ireneagh\n",
       "30299         Magpie_Guy\n",
       "30300      911guiltyjerk\n",
       "30301            Say2010\n",
       "30302        sytheveenje\n",
       "30303         crazy_moon\n",
       "30304          pomacious\n",
       "30305      shhshuskies32\n",
       "30306       kateharrison\n",
       "30307        Bloodl3tt3r\n",
       "30308             nrgins\n",
       "30309           serianna\n",
       "30310     TeamUKskyvixen\n",
       "Name: User, Length: 30311, dtype: object"
      ]
     },
     "execution_count": 154,
     "metadata": {},
     "output_type": "execute_result"
    }
   ],
   "source": [
    "# DataFrame: nix anderes als eine Liste in zwei Dimensionen\n",
    "# Dimension 1: Spalten\n",
    "# auf die Spalte mit Namen 'User' zugreifen\n",
    "tweets_normal['User']"
   ]
  },
  {
   "cell_type": "code",
   "execution_count": 155,
   "metadata": {},
   "outputs": [
    {
     "data": {
      "text/plain": [
       "User                                                michellepolus\n",
       "Tweet           This earthquake in italy has me sadden.  it's ...\n",
       "tweet_length                                                  100\n",
       "word_number                                                    20\n",
       "Date                                          2009-04-06 23:02:00\n",
       "Name: 10, dtype: object"
      ]
     },
     "execution_count": 155,
     "metadata": {},
     "output_type": "execute_result"
    }
   ],
   "source": [
    "# Dimension 2: Zeilen\n",
    "# auf den 10. Eintrag zugreifen\n",
    "tweets_normal.loc[10]"
   ]
  },
  {
   "cell_type": "markdown",
   "metadata": {},
   "source": [
    "[Anfang](#top)\n",
    "\n",
    "---"
   ]
  },
  {
   "cell_type": "markdown",
   "metadata": {},
   "source": [
    "<a name=\"daten_erkunden\"></a>Daten erkunden\n",
    "---\n",
    "#### Was für Informationen befinden sich in den Datensätzen?"
   ]
  },
  {
   "cell_type": "code",
   "execution_count": 16,
   "metadata": {},
   "outputs": [
    {
     "data": {
      "text/html": [
       "<div>\n",
       "<style scoped>\n",
       "    .dataframe tbody tr th:only-of-type {\n",
       "        vertical-align: middle;\n",
       "    }\n",
       "\n",
       "    .dataframe tbody tr th {\n",
       "        vertical-align: top;\n",
       "    }\n",
       "\n",
       "    .dataframe thead th {\n",
       "        text-align: right;\n",
       "    }\n",
       "</style>\n",
       "<table border=\"1\" class=\"dataframe\">\n",
       "  <thead>\n",
       "    <tr style=\"text-align: right;\">\n",
       "      <th></th>\n",
       "      <th>User</th>\n",
       "      <th>Tweet</th>\n",
       "      <th>tweet_length</th>\n",
       "      <th>word_number</th>\n",
       "      <th>Date</th>\n",
       "      <th>Year</th>\n",
       "      <th>Month</th>\n",
       "      <th>Hour</th>\n",
       "      <th>hours_since_first_tweet</th>\n",
       "    </tr>\n",
       "  </thead>\n",
       "  <tbody>\n",
       "    <tr>\n",
       "      <th>0</th>\n",
       "      <td>realDonaldTrump</td>\n",
       "      <td>Be sure to tune in and watch Donald Trump on L...</td>\n",
       "      <td>117</td>\n",
       "      <td>23</td>\n",
       "      <td>2009-05-04 18:54:00</td>\n",
       "      <td>2009</td>\n",
       "      <td>5</td>\n",
       "      <td>18</td>\n",
       "      <td>0.000000</td>\n",
       "    </tr>\n",
       "    <tr>\n",
       "      <th>1</th>\n",
       "      <td>realDonaldTrump</td>\n",
       "      <td>Donald Trump will be appearing on The View tom...</td>\n",
       "      <td>131</td>\n",
       "      <td>22</td>\n",
       "      <td>2009-05-05 01:00:00</td>\n",
       "      <td>2009</td>\n",
       "      <td>5</td>\n",
       "      <td>1</td>\n",
       "      <td>6.100000</td>\n",
       "    </tr>\n",
       "    <tr>\n",
       "      <th>2</th>\n",
       "      <td>realDonaldTrump</td>\n",
       "      <td>Donald Trump reads Top Ten Financial Tips on L...</td>\n",
       "      <td>116</td>\n",
       "      <td>17</td>\n",
       "      <td>2009-05-08 13:38:00</td>\n",
       "      <td>2009</td>\n",
       "      <td>5</td>\n",
       "      <td>13</td>\n",
       "      <td>90.733333</td>\n",
       "    </tr>\n",
       "    <tr>\n",
       "      <th>3</th>\n",
       "      <td>realDonaldTrump</td>\n",
       "      <td>New Blog Post: Celebrity Apprentice Finale and...</td>\n",
       "      <td>103</td>\n",
       "      <td>13</td>\n",
       "      <td>2009-05-08 20:40:00</td>\n",
       "      <td>2009</td>\n",
       "      <td>5</td>\n",
       "      <td>20</td>\n",
       "      <td>97.766667</td>\n",
       "    </tr>\n",
       "    <tr>\n",
       "      <th>4</th>\n",
       "      <td>realDonaldTrump</td>\n",
       "      <td>\"My persona will never be that of a wallflower...</td>\n",
       "      <td>111</td>\n",
       "      <td>21</td>\n",
       "      <td>2009-05-12 14:07:00</td>\n",
       "      <td>2009</td>\n",
       "      <td>5</td>\n",
       "      <td>14</td>\n",
       "      <td>187.216667</td>\n",
       "    </tr>\n",
       "  </tbody>\n",
       "</table>\n",
       "</div>"
      ],
      "text/plain": [
       "              User                                              Tweet  \\\n",
       "0  realDonaldTrump  Be sure to tune in and watch Donald Trump on L...   \n",
       "1  realDonaldTrump  Donald Trump will be appearing on The View tom...   \n",
       "2  realDonaldTrump  Donald Trump reads Top Ten Financial Tips on L...   \n",
       "3  realDonaldTrump  New Blog Post: Celebrity Apprentice Finale and...   \n",
       "4  realDonaldTrump  \"My persona will never be that of a wallflower...   \n",
       "\n",
       "   tweet_length  word_number                Date  Year  Month  Hour  \\\n",
       "0           117           23 2009-05-04 18:54:00  2009      5    18   \n",
       "1           131           22 2009-05-05 01:00:00  2009      5     1   \n",
       "2           116           17 2009-05-08 13:38:00  2009      5    13   \n",
       "3           103           13 2009-05-08 20:40:00  2009      5    20   \n",
       "4           111           21 2009-05-12 14:07:00  2009      5    14   \n",
       "\n",
       "   hours_since_first_tweet  \n",
       "0                 0.000000  \n",
       "1                 6.100000  \n",
       "2                90.733333  \n",
       "3                97.766667  \n",
       "4               187.216667  "
      ]
     },
     "execution_count": 16,
     "metadata": {},
     "output_type": "execute_result"
    }
   ],
   "source": [
    "tweets_trump.head()"
   ]
  },
  {
   "cell_type": "code",
   "execution_count": 17,
   "metadata": {},
   "outputs": [
    {
     "data": {
      "text/html": [
       "<div>\n",
       "<style scoped>\n",
       "    .dataframe tbody tr th:only-of-type {\n",
       "        vertical-align: middle;\n",
       "    }\n",
       "\n",
       "    .dataframe tbody tr th {\n",
       "        vertical-align: top;\n",
       "    }\n",
       "\n",
       "    .dataframe thead th {\n",
       "        text-align: right;\n",
       "    }\n",
       "</style>\n",
       "<table border=\"1\" class=\"dataframe\">\n",
       "  <thead>\n",
       "    <tr style=\"text-align: right;\">\n",
       "      <th></th>\n",
       "      <th>User</th>\n",
       "      <th>Tweet</th>\n",
       "      <th>tweet_length</th>\n",
       "      <th>word_number</th>\n",
       "      <th>Date</th>\n",
       "    </tr>\n",
       "  </thead>\n",
       "  <tbody>\n",
       "    <tr>\n",
       "      <th>0</th>\n",
       "      <td>10_GOP</td>\n",
       "      <td>Do you agree with the Boy Scouts for allowing ...</td>\n",
       "      <td>60</td>\n",
       "      <td>12</td>\n",
       "      <td>2017-10-12 00:12:00</td>\n",
       "    </tr>\n",
       "    <tr>\n",
       "      <th>1</th>\n",
       "      <td>10_GOP</td>\n",
       "      <td>'@realDonaldTrump Our President actually cares...</td>\n",
       "      <td>127</td>\n",
       "      <td>20</td>\n",
       "      <td>2017-09-15 23:03:00</td>\n",
       "    </tr>\n",
       "    <tr>\n",
       "      <th>2</th>\n",
       "      <td>10_GOP</td>\n",
       "      <td>Happy 270th birthday to the US Constitution! ð...</td>\n",
       "      <td>70</td>\n",
       "      <td>9</td>\n",
       "      <td>2017-09-17 18:10:00</td>\n",
       "    </tr>\n",
       "    <tr>\n",
       "      <th>3</th>\n",
       "      <td>10_GOP</td>\n",
       "      <td>Rocket Man tries to compete with Trump at his ...</td>\n",
       "      <td>85</td>\n",
       "      <td>15</td>\n",
       "      <td>2017-09-22 01:09:00</td>\n",
       "    </tr>\n",
       "    <tr>\n",
       "      <th>4</th>\n",
       "      <td>10_GOP</td>\n",
       "      <td>Milo Yiannopoulos: \"Twitter censorship starts ...</td>\n",
       "      <td>104</td>\n",
       "      <td>15</td>\n",
       "      <td>2017-09-08 00:33:00</td>\n",
       "    </tr>\n",
       "  </tbody>\n",
       "</table>\n",
       "</div>"
      ],
      "text/plain": [
       "     User                                              Tweet  tweet_length  \\\n",
       "0  10_GOP  Do you agree with the Boy Scouts for allowing ...            60   \n",
       "1  10_GOP  '@realDonaldTrump Our President actually cares...           127   \n",
       "2  10_GOP  Happy 270th birthday to the US Constitution! ð...            70   \n",
       "3  10_GOP  Rocket Man tries to compete with Trump at his ...            85   \n",
       "4  10_GOP  Milo Yiannopoulos: \"Twitter censorship starts ...           104   \n",
       "\n",
       "   word_number                Date  \n",
       "0           12 2017-10-12 00:12:00  \n",
       "1           20 2017-09-15 23:03:00  \n",
       "2            9 2017-09-17 18:10:00  \n",
       "3           15 2017-09-22 01:09:00  \n",
       "4           15 2017-09-08 00:33:00  "
      ]
     },
     "execution_count": 17,
     "metadata": {},
     "output_type": "execute_result"
    }
   ],
   "source": [
    "tweets_troll.head()"
   ]
  },
  {
   "cell_type": "markdown",
   "metadata": {},
   "source": [
    "#### Wie viele Datenpunkte sind enthalten?"
   ]
  },
  {
   "cell_type": "code",
   "execution_count": 19,
   "metadata": {},
   "outputs": [
    {
     "data": {
      "text/plain": [
       "30311"
      ]
     },
     "execution_count": 19,
     "metadata": {},
     "output_type": "execute_result"
    }
   ],
   "source": [
    "len(tweets_trump)"
   ]
  },
  {
   "cell_type": "code",
   "execution_count": 20,
   "metadata": {},
   "outputs": [
    {
     "data": {
      "text/plain": [
       "30311"
      ]
     },
     "execution_count": 20,
     "metadata": {},
     "output_type": "execute_result"
    }
   ],
   "source": [
    "len(tweets_troll)"
   ]
  },
  {
   "cell_type": "code",
   "execution_count": 21,
   "metadata": {},
   "outputs": [
    {
     "data": {
      "text/plain": [
       "30311"
      ]
     },
     "execution_count": 21,
     "metadata": {},
     "output_type": "execute_result"
    }
   ],
   "source": [
    "len(tweets_normal)"
   ]
  },
  {
   "cell_type": "markdown",
   "metadata": {},
   "source": [
    "#### Was steht in den Spalten?"
   ]
  },
  {
   "cell_type": "code",
   "execution_count": 22,
   "metadata": {},
   "outputs": [
    {
     "data": {
      "text/plain": [
       "Index(['User', 'Tweet', 'tweet_length', 'word_number', 'Date'], dtype='object')"
      ]
     },
     "execution_count": 22,
     "metadata": {},
     "output_type": "execute_result"
    }
   ],
   "source": [
    "tweets_troll.columns\n",
    "\n",
    "# -> Spaltennamen schon alle gleich\n",
    "# -> \"Date\" = String\n",
    "# -> \"User\" = String\n",
    "# -> \"Tweet\" = String\n",
    "# -> \"tweet_length\" = Zahl\n",
    "# -> \"word_number\" = Zahl"
   ]
  },
  {
   "cell_type": "code",
   "execution_count": 156,
   "metadata": {},
   "outputs": [
    {
     "data": {
      "text/plain": [
       "'Home of the iconic Ailsa, a four time @The_Open course, @TrumpTurnberry is a landmark on the Ayrshire coastline http://t.co/qMVZJzHtLq'"
      ]
     },
     "execution_count": 156,
     "metadata": {},
     "output_type": "execute_result"
    }
   ],
   "source": [
    "# ein zufälliger Tweet\n",
    "tweets_trump.loc[15672]['Tweet']"
   ]
  },
  {
   "cell_type": "markdown",
   "metadata": {},
   "source": [
    "#### Worin unterscheiden sich die drei Tabellen?"
   ]
  },
  {
   "cell_type": "code",
   "execution_count": 24,
   "metadata": {},
   "outputs": [
    {
     "data": {
      "text/plain": [
       "array(['realDonaldTrump', 'DonaldJTrumpJr', 'TeamTrump', 'EricTrump'],\n",
       "      dtype=object)"
      ]
     },
     "execution_count": 24,
     "metadata": {},
     "output_type": "execute_result"
    }
   ],
   "source": [
    "# -> Anzahl enthaltene User, Typ der User\n",
    "tweets_trump['User'].unique()"
   ]
  },
  {
   "cell_type": "markdown",
   "metadata": {},
   "source": [
    "#### Woher kommen die Daten?\n",
    "* [\"normale\" Twitter-User](http://help.sentiment140.com/for-students/) Diese Daten wurden eigentlich für eine sog. \"sentiment Analyse\", also eine Analyse der Gefühlslage des Twitter-Nutzers gesammelt. Die Methode, die der Datensammlung zu Grunde liegt, wird in [dieser Publikation](https://cs.stanford.edu/people/alecmgo/papers/TwitterDistantSupervision09.pdf) beschrieben. \n",
    "* [Donald Trump](https://github.com/mkearney/trumptweets) zur Datenquelle der Trump-Tweets gibt es keine genauere Dokumentation. Das sollte uns das hellhörig werden lassen und darauf hinweisen, dass die Datenquelle nicht unbedingt vertrauenswürdig ist. Eine Alternative wäre, die entsprechenden Tweets selbst zu sammeln.\n",
    "* [russische Trolle](https://github.com/fivethirtyeight/russian-troll-tweets/) Eine sehr gute Beschreibung des Datensatzes sowie der Methoden die angewandt wurden, um die Trolle zu identifizieren gibt es auf dem [GitHub Profil](https://github.com/fivethirtyeight/russian-troll-tweets/) des Projektes. Zum besseren Verständnis der Bedeutung des Datensatzes bietet sich auch [dieser](https://fivethirtyeight.com/features/why-were-sharing-3-million-russian-troll-tweets/) Artikel an.\n",
    "\n",
    "Die Daten wurden für dieses Event aufbereitet. Die komplette Aufbereitungs-Pipeline ist im Notebook ```live_hack_session_data_preparation.ipynb``` hinterlegt."
   ]
  },
  {
   "cell_type": "markdown",
   "metadata": {},
   "source": [
    "#### Ein bisschen deskriptive Statistik"
   ]
  },
  {
   "cell_type": "code",
   "execution_count": 25,
   "metadata": {},
   "outputs": [
    {
     "data": {
      "text/plain": [
       "count    30311.000000\n",
       "mean       107.254924\n",
       "std         33.469318\n",
       "min          9.000000\n",
       "25%         87.000000\n",
       "50%        119.000000\n",
       "75%        136.000000\n",
       "max        140.000000\n",
       "Name: tweet_length, dtype: float64"
      ]
     },
     "execution_count": 25,
     "metadata": {},
     "output_type": "execute_result"
    }
   ],
   "source": [
    "# describe() für tweet_length und word_number\n",
    "tweets_trump['tweet_length'].describe()"
   ]
  },
  {
   "cell_type": "code",
   "execution_count": 26,
   "metadata": {},
   "outputs": [
    {
     "data": {
      "text/plain": [
       "count    30311.000000\n",
       "mean        99.200587\n",
       "std         31.374940\n",
       "min          7.000000\n",
       "25%         75.000000\n",
       "50%        106.000000\n",
       "75%        126.000000\n",
       "max        140.000000\n",
       "Name: tweet_length, dtype: float64"
      ]
     },
     "execution_count": 26,
     "metadata": {},
     "output_type": "execute_result"
    }
   ],
   "source": [
    "tweets_troll['tweet_length'].describe()"
   ]
  },
  {
   "cell_type": "code",
   "execution_count": 27,
   "metadata": {},
   "outputs": [
    {
     "data": {
      "text/plain": [
       "count    30311.000000\n",
       "mean        73.366732\n",
       "std         35.763741\n",
       "min          8.000000\n",
       "25%         44.000000\n",
       "50%         69.000000\n",
       "75%        102.500000\n",
       "max        140.000000\n",
       "Name: tweet_length, dtype: float64"
      ]
     },
     "execution_count": 27,
     "metadata": {},
     "output_type": "execute_result"
    }
   ],
   "source": [
    "tweets_normal['tweet_length'].describe()"
   ]
  },
  {
   "cell_type": "markdown",
   "metadata": {},
   "source": [
    "[Anfang](#top)\n",
    "\n",
    "---"
   ]
  },
  {
   "cell_type": "markdown",
   "metadata": {},
   "source": [
    "<a name=\"daten_visualisieren\"></a>Daten visualisieren\n",
    "---\n",
    "Visualisierung funktioniert am besten mit Zahlen, deswegen konzentrieren wir uns im Folgenden auf die Spalten\n",
    "* ```tweet_length``` (Zeichen in einem Tweet) und\n",
    "* ```word_number``` (Worte in einem Tweet)"
   ]
  },
  {
   "cell_type": "code",
   "execution_count": 158,
   "metadata": {},
   "outputs": [],
   "source": [
    "# diese Bibliothek brauchen wir zum Visualisieren\n",
    "import matplotlib.pyplot as plt"
   ]
  },
  {
   "cell_type": "markdown",
   "metadata": {},
   "source": [
    "### Histogramme\n",
    "Mit Histogrammen können wir die Verteilung einer Größe darstellen:"
   ]
  },
  {
   "cell_type": "code",
   "execution_count": 33,
   "metadata": {},
   "outputs": [
    {
     "data": {
      "text/plain": [
       "Text(0,0.5,'Anzahl Tweets')"
      ]
     },
     "execution_count": 33,
     "metadata": {},
     "output_type": "execute_result"
    },
    {
     "data": {
      "image/png": "[encoded data removed]",
      "text/plain": [
       "<Figure size 432x288 with 1 Axes>"
      ]
     },
     "metadata": {},
     "output_type": "display_data"
    }
   ],
   "source": [
    "# der Funktion hist() übergeben wir eine Liste an Werten\n",
    "plt.hist(tweets_troll['tweet_length'])\n",
    "\n",
    "# was fehlt für einen guten Plot? -> Achsenbeschriftungen\n",
    "plt.xlabel('Tweet-Länge / Zeichen')\n",
    "plt.ylabel('Anzahl Tweets')\n",
    "\n",
    "# Fragen / Aktionen\n",
    "# was sehen wir hier?\n",
    "# wieviele Zeichen kann ein Tweet haben?\n",
    "# passe \"bins\" an\n",
    "# selbe Visualisierung für normale User und Trolle"
   ]
  },
  {
   "cell_type": "code",
   "execution_count": 35,
   "metadata": {},
   "outputs": [
    {
     "data": {
      "image/png": "[encoded data removed]",
      "text/plain": [
       "<Figure size 432x288 with 1 Axes>"
      ]
     },
     "metadata": {},
     "output_type": "display_data"
    }
   ],
   "source": [
    "# Visualisierung für alle drei auf einmal\n",
    "plt.hist(tweets_trump['tweet_length'], alpha=0.5, label='Trump')\n",
    "plt.hist(tweets_troll['tweet_length'], alpha=0.5, label='Trolle')\n",
    "plt.hist(tweets_normal['tweet_length'], alpha=0.5, label='normale User')\n",
    "\n",
    "# Achsenbeschriftungen\n",
    "plt.xlabel('Tweet-Länge / Zeichen')\n",
    "plt.ylabel('Anzahl Tweets')\n",
    "\n",
    "# was fehlt für einen guten Plot? -> Legende, Titel\n",
    "plt.legend()\n",
    "plt.title('Tweet-Länge für verschiedene User (Gruppen)')\n",
    "\n",
    "# Plot sieht schon mal ziemlich schick aus. Speichern?\n",
    "pfad_output = 'plots_live_hack_session/'\n",
    "plt.savefig(pfad_output + 'tweet_laengen.pdf')"
   ]
  },
  {
   "cell_type": "markdown",
   "metadata": {},
   "source": [
    "[Anfang](#top)"
   ]
  },
  {
   "cell_type": "markdown",
   "metadata": {},
   "source": [
    "### Scatterplots\n",
    "Was, wenn wir uns die Beziehung von zwei Beobachtungen, z.B. Tweetlänge und Wortanzahl zueinander ansehen wollen?"
   ]
  },
  {
   "cell_type": "code",
   "execution_count": 159,
   "metadata": {},
   "outputs": [
    {
     "data": {
      "text/plain": [
       "Text(0,0.5,'Wortanzahl')"
      ]
     },
     "execution_count": 159,
     "metadata": {},
     "output_type": "execute_result"
    },
    {
     "data": {
      "image/png": "[encoded data removed]",
      "text/plain": [
       "<Figure size 432x288 with 1 Axes>"
      ]
     },
     "metadata": {},
     "output_type": "display_data"
    }
   ],
   "source": [
    "# der Funktion scatter() geben wir zwei Listen mit Werten, die erste wird\n",
    "# als x-Koordinate interpretiert, die zweite als y-Koordinate\n",
    "plt.scatter(tweets_trump['tweet_length'], tweets_trump['word_number'])\n",
    "\n",
    "# Achsenbeschriftungen\n",
    "plt.xlabel('Tweet-Länge / Zeichen')\n",
    "plt.ylabel('Wortanzahl')"
   ]
  },
  {
   "cell_type": "markdown",
   "metadata": {},
   "source": [
    "Die Wortanzahl scheint stark mit der Tweet-Länge zu korrelieren (irgendwie intuitiv...)"
   ]
  },
  {
   "cell_type": "code",
   "execution_count": 160,
   "metadata": {},
   "outputs": [
    {
     "name": "stdout",
     "output_type": "stream",
     "text": [
      "Anzahl der von Trump getweeteten Worte:\n",
      "498605\n",
      "\n",
      "Anzahl der von den Trollen getweeteten Worte:\n",
      "394572\n",
      "\n",
      "Anzahl der von den normalen Usern getweeteten Worte:\n",
      "431782\n"
     ]
    }
   ],
   "source": [
    "# hat Trump die besten Worte?\n",
    "# Erste Vermutung: wenn Trump die _meisten_ Worte hat, dann hat er auch eine\n",
    "# höhere Chance, die _besten_ Worte zu haben.\n",
    "\n",
    "# Schauen wir uns noch mal das Histogramm mit den Tweetlängen für alle\n",
    "# drei Datensätze an:\n",
    "# -> Trump und die Trolle scheinen sich ein enges Match um die längsten \n",
    "# Tweets zu liefern\n",
    "# -> Worte zählen:\n",
    "\n",
    "print('Anzahl der von Trump getweeteten Worte:')\n",
    "print(tweets_trump['word_number'].sum())\n",
    "print()\n",
    "\n",
    "print('Anzahl der von den Trollen getweeteten Worte:')\n",
    "print(tweets_troll['word_number'].sum())\n",
    "print()\n",
    "\n",
    "print('Anzahl der von den normalen Usern getweeteten Worte:')\n",
    "print(tweets_normal['word_number'].sum())"
   ]
  },
  {
   "cell_type": "markdown",
   "metadata": {},
   "source": [
    "**Trump hat eindeutig die meisten Worte benutzt**  \n",
    "Sidenote: die normalen User sind auch nicht so schlecht! Sah im Histogramm aber nicht so aus..."
   ]
  },
  {
   "cell_type": "markdown",
   "metadata": {},
   "source": [
    "[Anfang](#top)"
   ]
  },
  {
   "cell_type": "markdown",
   "metadata": {},
   "source": [
    "#### Was ist sonst noch so in den Daten? $\\rightarrow$ Datum & Zeit!"
   ]
  },
  {
   "cell_type": "code",
   "execution_count": 161,
   "metadata": {},
   "outputs": [
    {
     "data": {
      "text/html": [
       "<div>\n",
       "<style scoped>\n",
       "    .dataframe tbody tr th:only-of-type {\n",
       "        vertical-align: middle;\n",
       "    }\n",
       "\n",
       "    .dataframe tbody tr th {\n",
       "        vertical-align: top;\n",
       "    }\n",
       "\n",
       "    .dataframe thead th {\n",
       "        text-align: right;\n",
       "    }\n",
       "</style>\n",
       "<table border=\"1\" class=\"dataframe\">\n",
       "  <thead>\n",
       "    <tr style=\"text-align: right;\">\n",
       "      <th></th>\n",
       "      <th>User</th>\n",
       "      <th>Tweet</th>\n",
       "      <th>tweet_length</th>\n",
       "      <th>word_number</th>\n",
       "      <th>Date</th>\n",
       "      <th>Year</th>\n",
       "      <th>Month</th>\n",
       "      <th>Hour</th>\n",
       "      <th>hours_since_first_tweet</th>\n",
       "    </tr>\n",
       "  </thead>\n",
       "  <tbody>\n",
       "    <tr>\n",
       "      <th>0</th>\n",
       "      <td>realDonaldTrump</td>\n",
       "      <td>Be sure to tune in and watch Donald Trump on L...</td>\n",
       "      <td>117</td>\n",
       "      <td>23</td>\n",
       "      <td>2009-05-04 18:54:00</td>\n",
       "      <td>2009</td>\n",
       "      <td>5</td>\n",
       "      <td>18</td>\n",
       "      <td>0.0</td>\n",
       "    </tr>\n",
       "  </tbody>\n",
       "</table>\n",
       "</div>"
      ],
      "text/plain": [
       "              User                                              Tweet  \\\n",
       "0  realDonaldTrump  Be sure to tune in and watch Donald Trump on L...   \n",
       "\n",
       "   tweet_length  word_number                Date  Year  Month  Hour  \\\n",
       "0           117           23 2009-05-04 18:54:00  2009      5    18   \n",
       "\n",
       "   hours_since_first_tweet  \n",
       "0                      0.0  "
      ]
     },
     "execution_count": 161,
     "metadata": {},
     "output_type": "execute_result"
    }
   ],
   "source": [
    "tweets_trump.head(1)"
   ]
  },
  {
   "cell_type": "code",
   "execution_count": 162,
   "metadata": {},
   "outputs": [
    {
     "data": {
      "text/plain": [
       "Text(0,0.5,'Anzahl')"
      ]
     },
     "execution_count": 162,
     "metadata": {},
     "output_type": "execute_result"
    },
    {
     "data": {
      "image/png": "[encoded data removed]",
      "text/plain": [
       "<Figure size 432x288 with 1 Axes>"
      ]
     },
     "metadata": {},
     "output_type": "display_data"
    }
   ],
   "source": [
    "# Unterschied in der Tweet-Frequenz zwischen den Monaten?\n",
    "plt.hist(tweets_trump['Month'], bins=range(1,14), rwidth=0.8)\n",
    "plt.xticks(range(1,13))\n",
    "plt.xlabel('Monat')\n",
    "plt.ylabel('Anzahl')\n",
    "\n",
    "# -> nicht wirklich"
   ]
  },
  {
   "cell_type": "code",
   "execution_count": 163,
   "metadata": {},
   "outputs": [
    {
     "data": {
      "text/plain": [
       "Text(0,0.5,'Anzahl')"
      ]
     },
     "execution_count": 163,
     "metadata": {},
     "output_type": "execute_result"
    },
    {
     "data": {
      "image/png": "[encoded data removed]",
      "text/plain": [
       "<Figure size 432x288 with 1 Axes>"
      ]
     },
     "metadata": {},
     "output_type": "display_data"
    }
   ],
   "source": [
    "# Unterschiede in den Stunden?\n",
    "plt.hist(tweets_trump['Hour'], bins=range(1,25), rwidth=0.8)\n",
    "plt.xticks(range(1,25))\n",
    "plt.xlabel('Stunde')\n",
    "plt.ylabel('Anzahl')\n",
    "\n",
    "# -> Trump schläft offensichtlich zwischen 4 Uhr und 10 Uhr morgens"
   ]
  },
  {
   "cell_type": "code",
   "execution_count": 72,
   "metadata": {},
   "outputs": [
    {
     "data": {
      "text/plain": [
       "array([2009, 2010, 2011, 2012, 2013, 2014, 2015, 2016, 2017, 2018])"
      ]
     },
     "execution_count": 72,
     "metadata": {},
     "output_type": "execute_result"
    }
   ],
   "source": [
    "# wieviele Jahre umfasst der Datensatz? \n",
    "# -> benutze Funktion unique()\n",
    "tweets_trump['Year'].unique()"
   ]
  },
  {
   "cell_type": "code",
   "execution_count": 164,
   "metadata": {},
   "outputs": [
    {
     "data": {
      "text/plain": [
       "Text(0,0.5,'Anzahl')"
      ]
     },
     "execution_count": 164,
     "metadata": {},
     "output_type": "execute_result"
    },
    {
     "data": {
      "image/png": "[encoded data removed]",
      "text/plain": [
       "<Figure size 432x288 with 1 Axes>"
      ]
     },
     "metadata": {},
     "output_type": "display_data"
    }
   ],
   "source": [
    "# Unterschiede in der Tweet-Frequenz zwischen den Jahren?\n",
    "jahre = range(2009, 2019)\n",
    "plt.hist(tweets_trump['Year'], bins=jahre, rwidth=0.8)\n",
    "plt.xticks(jahre)\n",
    "plt.xlabel('Jahr')\n",
    "plt.ylabel('Anzahl')\n",
    "\n",
    "# -> definitiv!"
   ]
  },
  {
   "cell_type": "code",
   "execution_count": 77,
   "metadata": {},
   "outputs": [
    {
     "name": "stdout",
     "output_type": "stream",
     "text": [
      "Tweets pro Tag:\n"
     ]
    },
    {
     "data": {
      "text/plain": [
       "8.304383561643835"
      ]
     },
     "execution_count": 77,
     "metadata": {},
     "output_type": "execute_result"
    }
   ],
   "source": [
    "# wieviele Tweets pro Tag?\n",
    "N_tweets = len(tweets_trump)\n",
    "N_jahre = len(tweets_trump['Year'].unique())\n",
    "\n",
    "print('Tweets pro Tag:')\n",
    "N_tweets / (N_jahre * 365)"
   ]
  },
  {
   "cell_type": "markdown",
   "metadata": {},
   "source": [
    "[Anfang](#top)\n",
    "\n",
    "---"
   ]
  },
  {
   "cell_type": "markdown",
   "metadata": {},
   "source": [
    "<a name=\"all_the_best_words\"></a>Hat Trump wirklich die besten Worte?\n",
    "---"
   ]
  },
  {
   "cell_type": "markdown",
   "metadata": {},
   "source": [
    "Womit könnten wir messen, was die **besten** Worte sind?\n",
    "* Länge\n",
    "* Unterschiedlichkeit\n",
    "\n",
    "Wie erkennen wir, wo ein Wort endet und wo ein neues beginnt?  \n",
    "$\\rightarrow$ Leerzeichen  \n",
    "$\\rightarrow$ _iteriere_ über alle Tweets, \"zerteile\" den Tweet an den Leerzeichen und sammle die Worte ein."
   ]
  },
  {
   "cell_type": "code",
   "execution_count": 180,
   "metadata": {},
   "outputs": [
    {
     "data": {
      "text/plain": [
       "['ich', 'hätte', 'jetzt', 'gern', 'ein', 'Bier']"
      ]
     },
     "execution_count": 180,
     "metadata": {},
     "output_type": "execute_result"
    }
   ],
   "source": [
    "satz = 'ich hätte jetzt gern ein Bier'\n",
    "satz.split(' ')"
   ]
  },
  {
   "cell_type": "markdown",
   "metadata": {},
   "source": [
    "#### Exkurs: Schleifen und Listen\n",
    "Der Datensatz enthält über 30.000 Tweets. Jeden Tweet \"per Hand\" zu analysieren ist nicht menschenmöglich. Wir brauchen einen Weg, die selbe Aktion für jedes Element in einer Liste auszuführen."
   ]
  },
  {
   "cell_type": "code",
   "execution_count": 168,
   "metadata": {},
   "outputs": [
    {
     "name": "stdout",
     "output_type": "stream",
     "text": [
      "1\n",
      "4\n",
      "9\n",
      "16\n",
      "25\n"
     ]
    }
   ],
   "source": [
    "# Aufgabe: die Zahlen von 1 bis 5 quadrieren und ausgeben\n",
    "# Lösung mit for-Schleife. WICHTIG: Einrückungen, Laufvariable\n",
    "liste = [1,2,3,4,5]\n",
    "for zahl in liste:\n",
    "    print(zahl * zahl)"
   ]
  },
  {
   "cell_type": "markdown",
   "metadata": {},
   "source": [
    "Außerdem brauchen wir noch eine Möglichkeit, die Worte zu \"sammeln\". Das tun wir mit einer neuen Liste:"
   ]
  },
  {
   "cell_type": "code",
   "execution_count": 178,
   "metadata": {},
   "outputs": [],
   "source": [
    "# das ist eine Liste\n",
    "liste = [1,2,3]"
   ]
  },
  {
   "cell_type": "code",
   "execution_count": 179,
   "metadata": {},
   "outputs": [
    {
     "name": "stdout",
     "output_type": "stream",
     "text": [
      "[1, 2, 3, 4, 6, 6]\n"
     ]
    }
   ],
   "source": [
    "# das ist eine zweite Liste\n",
    "neue_liste = [4,6,6]\n",
    "\n",
    "# wir hängen die zweite Liste an die erste an\n",
    "liste.extend(neue_liste)\n",
    "print(liste)"
   ]
  },
  {
   "cell_type": "markdown",
   "metadata": {},
   "source": [
    "#### Erstelle eine Liste aller Worte, um sie zu analysieren"
   ]
  },
  {
   "cell_type": "code",
   "execution_count": 78,
   "metadata": {},
   "outputs": [],
   "source": [
    "# Liste, um alle vorkommenden Worte zu speichern\n",
    "words_trump = []\n",
    "\n",
    "liste = tweets_trump['Tweet']\n",
    "# iteriere über alle Tweets\n",
    "for tweet in liste:\n",
    "    # zerteile den Tweet entlang der Leerzeichen in Worte\n",
    "    words = tweet.split(' ')\n",
    "    # hänge die Liste mit Worten an die globale Liste an\n",
    "    words_trump.extend(words)"
   ]
  },
  {
   "cell_type": "code",
   "execution_count": 79,
   "metadata": {},
   "outputs": [],
   "source": [
    "# selbe Vorgehensweise für Trolle und normale User\n",
    "words_troll = []\n",
    "for tweet in tweets_troll['Tweet']:\n",
    "    words = tweet.split(' ')\n",
    "    words_troll.extend(words)\n",
    "    \n",
    "words_normal = []\n",
    "for tweet in tweets_normal['Tweet']:\n",
    "    words = tweet.split(' ')\n",
    "    words_normal.extend(words)"
   ]
  },
  {
   "cell_type": "code",
   "execution_count": 166,
   "metadata": {},
   "outputs": [
    {
     "data": {
      "text/plain": [
       "['Financial',\n",
       " 'Tips',\n",
       " 'on',\n",
       " 'Late',\n",
       " 'Show',\n",
       " 'with',\n",
       " 'David',\n",
       " 'Letterman:',\n",
       " 'http://tinyurl.com/ooafwn',\n",
       " '-']"
      ]
     },
     "execution_count": 166,
     "metadata": {},
     "output_type": "execute_result"
    }
   ],
   "source": [
    "words_trump[50:60]"
   ]
  },
  {
   "cell_type": "markdown",
   "metadata": {},
   "source": [
    "[Anfang](#top)"
   ]
  },
  {
   "cell_type": "markdown",
   "metadata": {},
   "source": [
    "#### Worte filtern\n",
    "\n",
    "**ACHTUNG!** Tweets enthalten nicht nur \"richtige\" Worte sondern auch Links, Hashtags, Kunstworte, ...  \n",
    "$\\rightarrow$ Wir wollen nur echte Englische Worte zählen und vergleichen.  \n",
    "\n",
    "Wie finden wir heraus, ob ein Wort ein echtes Wort ist?  \n",
    "$\\rightarrow$ Wörterbuch!  \n",
    "\n",
    "Und in Python?  \n",
    "$\\rightarrow$ Hat dankenswerterweise auch schon jemand eine Bibliothek mit einem Wörterbuch gemacht.  \n",
    "$\\rightarrow$ Die Bibliothek ist noch nicht auf dem Cluster installiert, deswegen müssen wir sie fix nachladen:"
   ]
  },
  {
   "cell_type": "code",
   "execution_count": 83,
   "metadata": {},
   "outputs": [
    {
     "name": "stdout",
     "output_type": "stream",
     "text": [
      "Requirement already satisfied: pyenchant in /home/jana/anaconda3/lib/python3.6/site-packages (2.0.0)\n"
     ]
    }
   ],
   "source": [
    "# die Bibliothek \"sys\" gibt uns Zugriff auf die Funktionen\n",
    "# des Betriebssystems. Damit können wir ein neues Modul \n",
    "# importieren\n",
    "import sys\n",
    "!{sys.executable} -m pip install pyenchant\n",
    "\n",
    "import enchant"
   ]
  },
  {
   "cell_type": "code",
   "execution_count": 181,
   "metadata": {},
   "outputs": [
    {
     "data": {
      "text/plain": [
       "True"
      ]
     },
     "execution_count": 181,
     "metadata": {},
     "output_type": "execute_result"
    }
   ],
   "source": [
    "# erstelle ein Wörterbuch mit (amerikanischem) Englisch\n",
    "woerterbuch = enchant.Dict(\"en_US\")\n",
    "\n",
    "# überprüfe, ob das Wort \"hello\" im Wörterbuch zu finden ist\n",
    "wort = \"Hello\"\n",
    "woerterbuch.check(wort)"
   ]
  },
  {
   "cell_type": "code",
   "execution_count": 182,
   "metadata": {},
   "outputs": [
    {
     "data": {
      "text/plain": [
       "False"
      ]
     },
     "execution_count": 182,
     "metadata": {},
     "output_type": "execute_result"
    }
   ],
   "source": [
    "# Gegencheck: ein Wort, das nicht existiert\n",
    "wort = \"Helo\"\n",
    "woerterbuch.check(wort)"
   ]
  },
  {
   "cell_type": "code",
   "execution_count": 87,
   "metadata": {},
   "outputs": [
    {
     "ename": "ValueError",
     "evalue": "can't check spelling of empty string",
     "output_type": "error",
     "traceback": [
      "\u001b[0;31m---------------------------------------------------------------------------\u001b[0m",
      "\u001b[0;31mValueError\u001b[0m                                Traceback (most recent call last)",
      "\u001b[0;32m<ipython-input-87-25a8b7ec035a>\u001b[0m in \u001b[0;36m<module>\u001b[0;34m()\u001b[0m\n\u001b[0;32m----> 1\u001b[0;31m \u001b[0mcorrect_words_trump\u001b[0m \u001b[0;34m=\u001b[0m \u001b[0;34m[\u001b[0m\u001b[0mword\u001b[0m \u001b[0;32mfor\u001b[0m \u001b[0mword\u001b[0m \u001b[0;32min\u001b[0m \u001b[0mwords_trump\u001b[0m \u001b[0;32mif\u001b[0m \u001b[0mwoerterbuch\u001b[0m\u001b[0;34m.\u001b[0m\u001b[0mcheck\u001b[0m\u001b[0;34m(\u001b[0m\u001b[0mword\u001b[0m\u001b[0;34m)\u001b[0m\u001b[0;34m]\u001b[0m\u001b[0;34m\u001b[0m\u001b[0m\n\u001b[0m",
      "\u001b[0;32m<ipython-input-87-25a8b7ec035a>\u001b[0m in \u001b[0;36m<listcomp>\u001b[0;34m(.0)\u001b[0m\n\u001b[0;32m----> 1\u001b[0;31m \u001b[0mcorrect_words_trump\u001b[0m \u001b[0;34m=\u001b[0m \u001b[0;34m[\u001b[0m\u001b[0mword\u001b[0m \u001b[0;32mfor\u001b[0m \u001b[0mword\u001b[0m \u001b[0;32min\u001b[0m \u001b[0mwords_trump\u001b[0m \u001b[0;32mif\u001b[0m \u001b[0mwoerterbuch\u001b[0m\u001b[0;34m.\u001b[0m\u001b[0mcheck\u001b[0m\u001b[0;34m(\u001b[0m\u001b[0mword\u001b[0m\u001b[0;34m)\u001b[0m\u001b[0;34m]\u001b[0m\u001b[0;34m\u001b[0m\u001b[0m\n\u001b[0m",
      "\u001b[0;32m~/anaconda3/lib/python3.6/site-packages/enchant/__init__.py\u001b[0m in \u001b[0;36mcheck\u001b[0;34m(self, word)\u001b[0m\n\u001b[1;32m    649\u001b[0m         \u001b[0;31m# Check it up-front to avoid nasty warnings on stderr.\u001b[0m\u001b[0;34m\u001b[0m\u001b[0;34m\u001b[0m\u001b[0m\n\u001b[1;32m    650\u001b[0m         \u001b[0;32mif\u001b[0m \u001b[0mlen\u001b[0m\u001b[0;34m(\u001b[0m\u001b[0mword\u001b[0m\u001b[0;34m)\u001b[0m \u001b[0;34m==\u001b[0m \u001b[0;36m0\u001b[0m\u001b[0;34m:\u001b[0m\u001b[0;34m\u001b[0m\u001b[0m\n\u001b[0;32m--> 651\u001b[0;31m             \u001b[0;32mraise\u001b[0m \u001b[0mValueError\u001b[0m\u001b[0;34m(\u001b[0m\u001b[0;34m\"can't check spelling of empty string\"\u001b[0m\u001b[0;34m)\u001b[0m\u001b[0;34m\u001b[0m\u001b[0m\n\u001b[0m\u001b[1;32m    652\u001b[0m         \u001b[0mval\u001b[0m \u001b[0;34m=\u001b[0m \u001b[0m_e\u001b[0m\u001b[0;34m.\u001b[0m\u001b[0mdict_check\u001b[0m\u001b[0;34m(\u001b[0m\u001b[0mself\u001b[0m\u001b[0;34m.\u001b[0m\u001b[0m_this\u001b[0m\u001b[0;34m,\u001b[0m\u001b[0mword\u001b[0m\u001b[0;34m.\u001b[0m\u001b[0mencode\u001b[0m\u001b[0;34m(\u001b[0m\u001b[0;34m)\u001b[0m\u001b[0;34m)\u001b[0m\u001b[0;34m\u001b[0m\u001b[0m\n\u001b[1;32m    653\u001b[0m         \u001b[0;32mif\u001b[0m \u001b[0mval\u001b[0m \u001b[0;34m==\u001b[0m \u001b[0;36m0\u001b[0m\u001b[0;34m:\u001b[0m\u001b[0;34m\u001b[0m\u001b[0m\n",
      "\u001b[0;31mValueError\u001b[0m: can't check spelling of empty string"
     ]
    }
   ],
   "source": [
    "correct_words_trump = []\n",
    "for word in words_trump:\n",
    "    if woerterbuch.check(word):\n",
    "        correct_words_trump.append(word)"
   ]
  },
  {
   "cell_type": "markdown",
   "metadata": {},
   "source": [
    "Was ist hier passiert?  \n",
    "$\\rightarrow$ ```split()``` erzeugt auch 'leere' Strings:"
   ]
  },
  {
   "cell_type": "code",
   "execution_count": 93,
   "metadata": {},
   "outputs": [
    {
     "name": "stdout",
     "output_type": "stream",
     "text": [
      "4\n",
      "0\n"
     ]
    }
   ],
   "source": [
    "test = '   '\n",
    "test_list = test.split(' ')\n",
    "print(len(test_list))\n",
    "print(len(test_list[0]))"
   ]
  },
  {
   "cell_type": "markdown",
   "metadata": {},
   "source": [
    "Wie filtern wir die leeren strings heraus?"
   ]
  },
  {
   "cell_type": "markdown",
   "metadata": {},
   "source": [
    "[Anfang](#top)"
   ]
  },
  {
   "cell_type": "markdown",
   "metadata": {},
   "source": [
    "#### Exkurs: Logik\n",
    "\"Mache etwas, wenn...\""
   ]
  },
  {
   "cell_type": "code",
   "execution_count": 25,
   "metadata": {},
   "outputs": [
    {
     "name": "stdout",
     "output_type": "stream",
     "text": [
      "27\n"
     ]
    }
   ],
   "source": [
    "# Aufgabe: wenn Zahl kleiner 4 ist, quadriern\n",
    "zahl = 3\n",
    "if zahl < 4:\n",
    "    print(zahl * zahl)"
   ]
  },
  {
   "cell_type": "code",
   "execution_count": 27,
   "metadata": {},
   "outputs": [
    {
     "name": "stdout",
     "output_type": "stream",
     "text": [
      "4\n"
     ]
    }
   ],
   "source": [
    "# Aufgabe: wenn Zahl kleiner 4 ist: quadrieren, sonst zahl + zahl ausgeben\n",
    "zahl = 2\n",
    "if zahl < 4:\n",
    "    print(zahl * zahl)\n",
    "else:\n",
    "    print(zahl + zahl)"
   ]
  },
  {
   "cell_type": "code",
   "execution_count": 29,
   "metadata": {},
   "outputs": [
    {
     "name": "stdout",
     "output_type": "stream",
     "text": [
      "1\n",
      "4\n",
      "9\n",
      "8\n",
      "10\n",
      "12\n",
      "14\n",
      "16\n",
      "18\n",
      "20\n"
     ]
    }
   ],
   "source": [
    "# Aufgabe wie oben nur für alle Zahlen von 1-10 \n",
    "for zahl in [1, 2, 3, 4, 5, 6, 7, 8, 9, 10]:\n",
    "    if zahl < 4:\n",
    "        print(zahl * zahl)\n",
    "    else:\n",
    "        print(zahl + zahl)"
   ]
  },
  {
   "cell_type": "markdown",
   "metadata": {},
   "source": [
    "Mit diesem Wissen können wir die Wortliste nach Englischen Wörtern durchsuchen.  \n",
    "Wir wollen jetzt zwei Fliegen mit einer Klappe schlagen, und auch gleich die Länge jedes Wortes messen und speichern:"
   ]
  },
  {
   "cell_type": "code",
   "execution_count": 183,
   "metadata": {},
   "outputs": [],
   "source": [
    "# leere Liste für die richtigen Worte\n",
    "correct_words_trump = []\n",
    "# leere Liste für die Wortlängen\n",
    "word_length_trump = []\n",
    "\n",
    "# wir iterieren über die \"rohe\" Wortliste\n",
    "for word in words_trump:\n",
    "    # wir haben gesehen, dass leere strings eine Länge von 0 haben\n",
    "    # das können wir überprüfen und nur strings im Wörterbuch testen,\n",
    "    # deren Länge größer als 0 ist\n",
    "    if len(word) > 0 and woerterbuch.check(word):\n",
    "        # füge das neue korrekte Wort der Liste hinzu\n",
    "        correct_words_trump.append(word)\n",
    "        # miss die Länge des Wortes\n",
    "        length = len(word)\n",
    "        # füge die Länge der Liste hinzu\n",
    "        word_length_trump.append(length)"
   ]
  },
  {
   "cell_type": "code",
   "execution_count": 101,
   "metadata": {},
   "outputs": [],
   "source": [
    "# Trolle\n",
    "correct_words_troll = []\n",
    "word_length_troll = []\n",
    "for word in words_troll:\n",
    "    if len(word) > 0 and woerterbuch.check(word):\n",
    "        correct_words_troll.append(word)\n",
    "        length = len(word)\n",
    "        word_length_troll.append(length)"
   ]
  },
  {
   "cell_type": "code",
   "execution_count": 102,
   "metadata": {},
   "outputs": [],
   "source": [
    "# normale User:\n",
    "correct_words_normal = []\n",
    "word_length_normal = []\n",
    "for word in words_normal:\n",
    "    if len(word) > 0 and woerterbuch.check(word):\n",
    "        correct_words_normal.append(word)\n",
    "        length = len(word)\n",
    "        word_length_normal.append(length)"
   ]
  },
  {
   "cell_type": "code",
   "execution_count": 184,
   "metadata": {},
   "outputs": [
    {
     "name": "stdout",
     "output_type": "stream",
     "text": [
      "498605\n",
      "379165\n"
     ]
    }
   ],
   "source": [
    "# wieviele Worte haben wir \"verloren\"?\n",
    "print(len(words_trump))\n",
    "print(len(correct_words_trump))"
   ]
  },
  {
   "cell_type": "markdown",
   "metadata": {},
   "source": [
    "[Anfang](#top)"
   ]
  },
  {
   "cell_type": "markdown",
   "metadata": {},
   "source": [
    "#### Ein eigenes DataFrame...\n",
    "Wir haben gesehen, dass die Bibliothek ```pandas``` uns praktische Möglichkeiten zur Verfügung stellt, Daten zu speichern. Das _Objekt_, in dem unsere Daten zu Trump, den Trollen und den normalen Usern die ganze Zeit gespeichert waren ist ein sog. ```DataFrame```. Das können wir uns auch selber für die Wort-Daten basteln, um einfacher mit ihnen umgehen zu können:"
   ]
  },
  {
   "cell_type": "code",
   "execution_count": 185,
   "metadata": {},
   "outputs": [
    {
     "data": {
      "text/html": [
       "<div>\n",
       "<style scoped>\n",
       "    .dataframe tbody tr th:only-of-type {\n",
       "        vertical-align: middle;\n",
       "    }\n",
       "\n",
       "    .dataframe tbody tr th {\n",
       "        vertical-align: top;\n",
       "    }\n",
       "\n",
       "    .dataframe thead th {\n",
       "        text-align: right;\n",
       "    }\n",
       "</style>\n",
       "<table border=\"1\" class=\"dataframe\">\n",
       "  <thead>\n",
       "    <tr style=\"text-align: right;\">\n",
       "      <th></th>\n",
       "      <th>word</th>\n",
       "      <th>length</th>\n",
       "    </tr>\n",
       "  </thead>\n",
       "  <tbody>\n",
       "    <tr>\n",
       "      <th>0</th>\n",
       "      <td>Be</td>\n",
       "      <td>2</td>\n",
       "    </tr>\n",
       "    <tr>\n",
       "      <th>1</th>\n",
       "      <td>sure</td>\n",
       "      <td>4</td>\n",
       "    </tr>\n",
       "  </tbody>\n",
       "</table>\n",
       "</div>"
      ],
      "text/plain": [
       "   word  length\n",
       "0    Be       2\n",
       "1  sure       4"
      ]
     },
     "execution_count": 185,
     "metadata": {},
     "output_type": "execute_result"
    }
   ],
   "source": [
    "# erstelle ein leeres neues DataFrame\n",
    "trump_word_data = pd.DataFrame()\n",
    "# erzeuge eine neue Spalte mit namen \"word\" und als Inhalt die Wortliste\n",
    "trump_word_data['word'] = correct_words_trump\n",
    "# erzeuge eine neue Spalte mit namen \"length\" und als Inhalt die Längen-Liste\n",
    "trump_word_data['length'] = word_length_trump\n",
    "trump_word_data.head(2)"
   ]
  },
  {
   "cell_type": "code",
   "execution_count": 186,
   "metadata": {},
   "outputs": [
    {
     "data": {
      "text/html": [
       "<div>\n",
       "<style scoped>\n",
       "    .dataframe tbody tr th:only-of-type {\n",
       "        vertical-align: middle;\n",
       "    }\n",
       "\n",
       "    .dataframe tbody tr th {\n",
       "        vertical-align: top;\n",
       "    }\n",
       "\n",
       "    .dataframe thead th {\n",
       "        text-align: right;\n",
       "    }\n",
       "</style>\n",
       "<table border=\"1\" class=\"dataframe\">\n",
       "  <thead>\n",
       "    <tr style=\"text-align: right;\">\n",
       "      <th></th>\n",
       "      <th>word</th>\n",
       "      <th>length</th>\n",
       "    </tr>\n",
       "  </thead>\n",
       "  <tbody>\n",
       "    <tr>\n",
       "      <th>0</th>\n",
       "      <td>Do</td>\n",
       "      <td>2</td>\n",
       "    </tr>\n",
       "    <tr>\n",
       "      <th>1</th>\n",
       "      <td>you</td>\n",
       "      <td>3</td>\n",
       "    </tr>\n",
       "  </tbody>\n",
       "</table>\n",
       "</div>"
      ],
      "text/plain": [
       "  word  length\n",
       "0   Do       2\n",
       "1  you       3"
      ]
     },
     "execution_count": 186,
     "metadata": {},
     "output_type": "execute_result"
    }
   ],
   "source": [
    "# für Trolle\n",
    "troll_word_data = pd.DataFrame()\n",
    "troll_word_data['word'] = correct_words_troll\n",
    "troll_word_data['length'] = word_length_troll\n",
    "troll_word_data.head(2)"
   ]
  },
  {
   "cell_type": "code",
   "execution_count": 187,
   "metadata": {},
   "outputs": [
    {
     "data": {
      "text/html": [
       "<div>\n",
       "<style scoped>\n",
       "    .dataframe tbody tr th:only-of-type {\n",
       "        vertical-align: middle;\n",
       "    }\n",
       "\n",
       "    .dataframe tbody tr th {\n",
       "        vertical-align: top;\n",
       "    }\n",
       "\n",
       "    .dataframe thead th {\n",
       "        text-align: right;\n",
       "    }\n",
       "</style>\n",
       "<table border=\"1\" class=\"dataframe\">\n",
       "  <thead>\n",
       "    <tr style=\"text-align: right;\">\n",
       "      <th></th>\n",
       "      <th>word</th>\n",
       "      <th>length</th>\n",
       "    </tr>\n",
       "  </thead>\n",
       "  <tbody>\n",
       "    <tr>\n",
       "      <th>0</th>\n",
       "      <td>It</td>\n",
       "      <td>2</td>\n",
       "    </tr>\n",
       "    <tr>\n",
       "      <th>1</th>\n",
       "      <td>it</td>\n",
       "      <td>2</td>\n",
       "    </tr>\n",
       "  </tbody>\n",
       "</table>\n",
       "</div>"
      ],
      "text/plain": [
       "  word  length\n",
       "0   It       2\n",
       "1   it       2"
      ]
     },
     "execution_count": 187,
     "metadata": {},
     "output_type": "execute_result"
    }
   ],
   "source": [
    "# für normale User\n",
    "normal_word_data = pd.DataFrame()\n",
    "normal_word_data['word'] = correct_words_normal\n",
    "normal_word_data['length'] = word_length_normal\n",
    "normal_word_data.head(2)"
   ]
  },
  {
   "cell_type": "markdown",
   "metadata": {},
   "source": [
    "[Anfang](#top)"
   ]
  },
  {
   "cell_type": "markdown",
   "metadata": {},
   "source": [
    "Zurück zu unseren Fragen: \n",
    "* Wer hat die längsten Worte? $\\rightarrow$ berechne die mittlere Wortlänge"
   ]
  },
  {
   "cell_type": "code",
   "execution_count": 124,
   "metadata": {},
   "outputs": [
    {
     "name": "stdout",
     "output_type": "stream",
     "text": [
      "mittlere Wortlänge Trump\n",
      "4.404275183627181\n",
      "\n",
      "mittlere Wortlänge Trolle\n",
      "4.674076604927172\n",
      "\n",
      "mittlere Wortlänge normale User\n",
      "3.9611694694364625\n"
     ]
    }
   ],
   "source": [
    "# berechne den Mittelwert der Spalte \"length\"\n",
    "mean_trump = trump_word_data['length'].mean()\n",
    "mean_troll = troll_word_data['length'].mean()\n",
    "mean_normal = normal_word_data['length'].mean()\n",
    "\n",
    "print('mittlere Wortlänge Trump')\n",
    "print(mean_trump)\n",
    "print()\n",
    "\n",
    "print('mittlere Wortlänge Trolle')\n",
    "print(mean_troll)\n",
    "print()\n",
    "\n",
    "print('mittlere Wortlänge normale User')\n",
    "print(mean_normal)"
   ]
  },
  {
   "cell_type": "code",
   "execution_count": 150,
   "metadata": {},
   "outputs": [
    {
     "data": {
      "text/plain": [
       "Text(0,0.5,'mittlere Wortlänge')"
      ]
     },
     "execution_count": 150,
     "metadata": {},
     "output_type": "execute_result"
    },
    {
     "data": {
      "image/png": "[encoded data removed]",
      "text/plain": [
       "<Figure size 432x288 with 1 Axes>"
      ]
     },
     "metadata": {},
     "output_type": "display_data"
    }
   ],
   "source": [
    "plt.bar(['Trump', 'Troll', 'normal'], [mean_trump, mean_troll, mean_normal], color = ['red', 'blue', 'green'])\n",
    "plt.ylabel('mittlere Wortlänge')"
   ]
  },
  {
   "cell_type": "markdown",
   "metadata": {},
   "source": [
    "* Wer benutzt die unterschiedlichsten Worte? $\\rightarrow$ zähle die einzigartigen Worte"
   ]
  },
  {
   "cell_type": "code",
   "execution_count": 188,
   "metadata": {},
   "outputs": [
    {
     "name": "stdout",
     "output_type": "stream",
     "text": [
      "Einzigartige Worte von Trump:\n",
      "24142\n",
      "\n",
      "Einzigartige Worte von Trollen:\n",
      "29175\n",
      "\n",
      "Einzigartige Worte von normalen Usern:\n",
      "23405\n"
     ]
    }
   ],
   "source": [
    "# zähle alle einzigartigen Einträge der Spalte \"word\"\n",
    "unique_trump = len(trump_word_data['word'].unique())\n",
    "unique_troll = len(troll_word_data['word'].unique())\n",
    "unique_normal = len(normal_word_data['word'].unique())\n",
    "\n",
    "print('Einzigartige Worte von Trump:')\n",
    "print(unique_trump)\n",
    "print()\n",
    "\n",
    "print('Einzigartige Worte von Trollen:')\n",
    "print(unique_troll)\n",
    "print()\n",
    "\n",
    "print('Einzigartige Worte von normalen Usern:')\n",
    "print(unique_normal)"
   ]
  },
  {
   "cell_type": "code",
   "execution_count": 189,
   "metadata": {},
   "outputs": [
    {
     "data": {
      "text/plain": [
       "Text(0,0.5,'einzigartige Worte')"
      ]
     },
     "execution_count": 189,
     "metadata": {},
     "output_type": "execute_result"
    },
    {
     "data": {
      "image/png": "[encoded data removed]",
      "text/plain": [
       "<Figure size 432x288 with 1 Axes>"
      ]
     },
     "metadata": {},
     "output_type": "display_data"
    }
   ],
   "source": [
    "plt.bar(['Trump', 'Troll', 'normal'], [unique_trump, unique_troll, unique_normal], color = ['red', 'blue', 'green'])\n",
    "plt.ylabel('einzigartige Worte')"
   ]
  },
  {
   "cell_type": "markdown",
   "metadata": {},
   "source": [
    "**Die Trolle gewinnen auf ganzer Linie!**"
   ]
  },
  {
   "cell_type": "markdown",
   "metadata": {},
   "source": [
    "### Bonus: ...and the best of them ist stupid!"
   ]
  },
  {
   "cell_type": "code",
   "execution_count": 190,
   "metadata": {},
   "outputs": [],
   "source": [
    "word = 'stupid' \n",
    "# Aktionen:\n",
    "# auch 'best' und 'word' versuchen und sehen, \n",
    "# dass Trump auch diese beiden Worte am meisten\n",
    "# benutzt"
   ]
  },
  {
   "cell_type": "code",
   "execution_count": 191,
   "metadata": {},
   "outputs": [
    {
     "data": {
      "text/plain": [
       "105"
      ]
     },
     "execution_count": 191,
     "metadata": {},
     "output_type": "execute_result"
    }
   ],
   "source": [
    "trump_word_data['word'].str.count(word).sum()"
   ]
  },
  {
   "cell_type": "code",
   "execution_count": 192,
   "metadata": {},
   "outputs": [
    {
     "data": {
      "text/plain": [
       "45"
      ]
     },
     "execution_count": 192,
     "metadata": {},
     "output_type": "execute_result"
    }
   ],
   "source": [
    "troll_word_data['word'].str.count(word).sum()"
   ]
  },
  {
   "cell_type": "code",
   "execution_count": 193,
   "metadata": {},
   "outputs": [
    {
     "data": {
      "text/plain": [
       "95"
      ]
     },
     "execution_count": 193,
     "metadata": {},
     "output_type": "execute_result"
    }
   ],
   "source": [
    "normal_word_data['word'].str.count(word).sum()"
   ]
  },
  {
   "cell_type": "markdown",
   "metadata": {},
   "source": [
    "**Trump liegt knapp vorne, was die Benutzung des Wortes \"stupid\" angeht.**"
   ]
  },
  {
   "cell_type": "markdown",
   "metadata": {},
   "source": [
    "[Anfang](#top)"
   ]
  },
  {
   "cell_type": "markdown",
   "metadata": {},
   "source": [
    "### Und wie gehts jetzt weiter?\n",
    "$\\rightarrow$ [CorrelAid](https://correlaid.org/correlaid-x/goettingen/) Projekt  \n",
    "$\\rightarrow$ Python-Vorlesungen im WiSe  \n",
    "$\\rightarrow$ Vorlesung \"Daten Lesen Lernen\" im SoSe 2020"
   ]
  }
 ],
 "metadata": {
  "kernelspec": {
   "display_name": "Python 3",
   "language": "python",
   "name": "python3"
  },
  "language_info": {
   "codemirror_mode": {
    "name": "ipython",
    "version": 3
   },
   "file_extension": ".py",
   "mimetype": "text/x-python",
   "name": "python",
   "nbconvert_exporter": "python",
   "pygments_lexer": "ipython3",
   "version": "3.6.5"
  }
 },
 "nbformat": 4,
 "nbformat_minor": 2
}
