{
 "cells": [
  {
   "cell_type": "markdown",
   "metadata": {},
   "source": [
    "_Lizenz: Das folgende Lehrmaterial kann unter einer [CC-BY-SA 4.0](https://creativecommons.org/licenses/by/4.0/legalcode) Lizenz frei verwendet, verbreitet und modifiziert werden._   \n",
    " _Authoren: Jana Lasser (jana.lasser@ds.mpg.de)_  "
   ]
  },
  {
   "cell_type": "markdown",
   "metadata": {},
   "source": [
    "# All the best words: Datenanalyse auf Twitter\n",
    "### Live hack session 27. Juni 2019, Universität Göttingen"
   ]
  },
  {
   "cell_type": "markdown",
   "metadata": {},
   "source": [
    "### Regeln:\n",
    "* Fragen jederzeit erlaubt $\\rightarrow$ Handzeichen oder dazwischenrufen\n",
    "* <font color='red'>**rotes**</font> Post-it, wenn ihr Hilfe braucht oder es zu schnell geht\n",
    "* Helferelin im Raum helfen euch gerne\n",
    "* Wir machen das hier, damit **ihr** etwas lernt, nicht damit wir uns cool fühlen können :)"
   ]
  },
  {
   "cell_type": "markdown",
   "metadata": {},
   "source": [
    "<a name=\"top\"></a>Inhalt & Organisatorisches\n",
    "---\n",
    "TODO: placeholder Video Trump\n",
    "\n",
    "Wir wollen mit Daten (von Twitter) **quantifizieren**, ob Donald Trump wirklich die besten Worte (benutzt) hat. Dabei sollt ihr einen **Einblick in moderne Tools zur Datenanalyse** erhalten und herausfinden, ob euch diese Art des Arbeitens **Spaß** macht. \n",
    "\n",
    "* [Jupyter basics](#jupyterbasics)\n",
    "* [Python basics](#pythonbasics)\n",
    "* [Daten beschaffen](#daten_beschaffen)\n",
    "* [Daten erkunden](#daten_erkunden)\n",
    "* [Daten Visualisieren](#daten_visualisieren)\n",
    "* [Hat Trump wirklich die besten Worte?](#all_the_best_words)\n",
    "\n",
    "**Dauer:** etwa 3 Stunden, **Pause** nach etwa 1.5 Stunden, **Getränke** jederzeit frei verfügbar."
   ]
  },
  {
   "cell_type": "markdown",
   "metadata": {},
   "source": [
    "<a name=\"jupyterbasics\"></a>Jupyter basics\n",
    "---\n",
    "* Login JupyterCloud: TODO\n",
    "* Neues Notebook mit Python-Kernell erstellen\n",
    "* modularer Editor: Text $\\leftrightarrow$ Code\n",
    "* Wichtige Kommandos $\\rightarrow$ Cheatsheet\n",
    "\n",
    "TODO: placeholder cheatsheet\n",
    "\n",
    "Aktionen:\n",
    "* Neue Zelle machen (```B```)\n",
    "* etwas in die Zelle schreiben (z. B. ```2 + 2```)\n",
    "* Zelle ausführen (```SHIFT``` + ```ENTER```)\n",
    "* Zelle wieder löschen (```D``` ```D```)"
   ]
  },
  {
   "cell_type": "markdown",
   "metadata": {},
   "source": [
    "[Anfang](#top)"
   ]
  },
  {
   "cell_type": "markdown",
   "metadata": {},
   "source": [
    "<a name=\"pythonbasics\"></a>Python basics\n",
    "---\n",
    "Was ist Python? $\\rightarrow$ Programmiersprache (Scriptsprache), wird interpretiert nicht kompiliert.  \n",
    "$\\rightarrow$ Python als Taschenrechner"
   ]
  },
  {
   "cell_type": "code",
   "execution_count": null,
   "metadata": {},
   "outputs": [],
   "source": [
    "### Variablen\n",
    "# Zahlen\n",
    "\n",
    "# Strings\n",
    "\n",
    "### Listen"
   ]
  },
  {
   "cell_type": "markdown",
   "metadata": {},
   "source": [
    "Was kann so eine Programmiersprache? $\\rightarrow$ Arbeitsschritte automatisieren  \n",
    "$\\rightarrow$ Schleife"
   ]
  },
  {
   "cell_type": "code",
   "execution_count": null,
   "metadata": {},
   "outputs": [],
   "source": [
    "# for\n",
    "\n",
    "# range"
   ]
  },
  {
   "cell_type": "markdown",
   "metadata": {},
   "source": [
    "Und sonst so? $\\rightarrow$ \"schlau\" agieren  \n",
    "$\\rightarrow$ Logik"
   ]
  },
  {
   "cell_type": "code",
   "execution_count": null,
   "metadata": {},
   "outputs": [],
   "source": [
    "# if\n",
    "\n",
    "# if-else"
   ]
  },
  {
   "cell_type": "markdown",
   "metadata": {},
   "source": [
    "Wars das schon? $\\rightarrow$ Ne, da gibts auch noch Funktionen ...  \n",
    "$\\rightarrow$ Funktionen"
   ]
  },
  {
   "cell_type": "code",
   "execution_count": null,
   "metadata": {},
   "outputs": [],
   "source": [
    "# Funktion definieren\n",
    "\n",
    "# Funktion benutzen"
   ]
  },
  {
   "cell_type": "markdown",
   "metadata": {},
   "source": [
    "Cool, aber muss ich jetzt wirklich alles von Hand tippen? $\\rightarrow$ ne, das haben schlaue Leute schon vor uns gemacht!  \n",
    "$\\rightarrow$ Bibliotheken"
   ]
  },
  {
   "cell_type": "code",
   "execution_count": null,
   "metadata": {},
   "outputs": [],
   "source": [
    "# math\n",
    "\n",
    "# matplotlib"
   ]
  },
  {
   "cell_type": "markdown",
   "metadata": {},
   "source": [
    "Was passiert, wenn etwas nicht funktioniert? $\\rightarrow$ Fehlermeldung **lesen**, **verstehen** (und **googeln**).  \n",
    "$\\rightarrow$ Fehlermeldung"
   ]
  },
  {
   "cell_type": "code",
   "execution_count": null,
   "metadata": {},
   "outputs": [],
   "source": [
    "# ValueError\n",
    "\n",
    "# IndexError"
   ]
  },
  {
   "cell_type": "markdown",
   "metadata": {},
   "source": [
    "[Anfang](#top)"
   ]
  },
  {
   "cell_type": "markdown",
   "metadata": {},
   "source": [
    "<a name=\"daten_beschaffen\"></a>Daten beschaffen\n",
    "---"
   ]
  },
  {
   "cell_type": "code",
   "execution_count": 1,
   "metadata": {},
   "outputs": [],
   "source": [
    "# wo liegen die Daten?\n",
    "\n",
    "# wie bekommen wir die Daten ins Notebook?"
   ]
  },
  {
   "cell_type": "markdown",
   "metadata": {},
   "source": [
    "[Anfang](#top)"
   ]
  },
  {
   "cell_type": "markdown",
   "metadata": {},
   "source": [
    "<a name=\"daten_erkunden\"></a>Daten erkunden\n",
    "---"
   ]
  },
  {
   "cell_type": "code",
   "execution_count": null,
   "metadata": {},
   "outputs": [],
   "source": [
    "# Was ist in den Datensätzen (grob) drinnen?\n",
    "\n",
    "# worin unterscheiden sich die drei Tabellen? ->  woher kommen die Daten?\n",
    "\n",
    "# wie viele Datenpunkte sind enthalten?\n",
    "\n",
    "# Welche Information enthalten die einzelnen Spalten?"
   ]
  },
  {
   "cell_type": "markdown",
   "metadata": {},
   "source": [
    "[Anfang](#top)"
   ]
  },
  {
   "cell_type": "markdown",
   "metadata": {},
   "source": [
    "<a name=\"daten_visualisieren\"></a>Daten visualisieren\n",
    "---"
   ]
  },
  {
   "cell_type": "markdown",
   "metadata": {},
   "source": [
    "[Anfang](#top)"
   ]
  },
  {
   "cell_type": "markdown",
   "metadata": {},
   "source": [
    "<a name=\"all_the_best_words\"></a>Hat Trump wirklich die besten Worte?\n",
    "---"
   ]
  },
  {
   "cell_type": "markdown",
   "metadata": {},
   "source": [
    "Womit könnten wir messen, was die **besten** Worte sind?\n",
    "* ..."
   ]
  },
  {
   "cell_type": "markdown",
   "metadata": {},
   "source": [
    "[Anfang](#top)"
   ]
  },
  {
   "cell_type": "markdown",
   "metadata": {},
   "source": [
    "### Und wie gehts jetzt weiter?\n",
    "$\\rightarrow$ CorrelAid Projekt  \n",
    "$\\rightarrow$ Python-Vorlesungen im WiSe  \n",
    "$\\rightarrow$ Vorlesung \"Daten Lesen Lernen\" im SoSe 2020"
   ]
  },
  {
   "cell_type": "code",
   "execution_count": null,
   "metadata": {},
   "outputs": [],
   "source": []
  }
 ],
 "metadata": {
  "kernelspec": {
   "display_name": "Python 3",
   "language": "python",
   "name": "python3"
  },
  "language_info": {
   "codemirror_mode": {
    "name": "ipython",
    "version": 3
   },
   "file_extension": ".py",
   "mimetype": "text/x-python",
   "name": "python",
   "nbconvert_exporter": "python",
   "pygments_lexer": "ipython3",
   "version": "3.6.5"
  }
 },
 "nbformat": 4,
 "nbformat_minor": 2
}
